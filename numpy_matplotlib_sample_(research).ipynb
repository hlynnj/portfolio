{
 "cells": [
  {
   "cell_type": "markdown",
   "source": [
    "## Imports"
   ],
   "metadata": {
    "collapsed": false,
    "pycharm": {
     "name": "#%% md\n"
    }
   }
  },
  {
   "cell_type": "code",
   "execution_count": 237,
   "outputs": [],
   "source": [
    "import processing_utils\n",
    "import graphing_utils"
   ],
   "metadata": {
    "collapsed": false,
    "pycharm": {
     "name": "#%%\n"
    }
   }
  },
  {
   "cell_type": "code",
   "execution_count": 238,
   "outputs": [],
   "source": [
    "# import from processing_utils\n",
    "import importlib\n",
    "importlib.reload(processing_utils)\n",
    "from processing_utils import ERP_epoching"
   ],
   "metadata": {
    "collapsed": false,
    "pycharm": {
     "name": "#%%\n"
    }
   }
  },
  {
   "cell_type": "code",
   "execution_count": 248,
   "outputs": [],
   "source": [
    "# import from graphing_utils\n",
    "importlib.reload(graphing_utils)\n",
    "from graphing_utils import (load_filter_file, large_bin_markers, small_bin_markers, lines_cleared, helper_line_config, calibration_calc, plot_graph)"
   ],
   "metadata": {
    "collapsed": false,
    "pycharm": {
     "name": "#%%\n"
    }
   }
  },
  {
   "cell_type": "markdown",
   "source": [
    "## Load Data"
   ],
   "metadata": {
    "collapsed": false,
    "pycharm": {
     "name": "#%% md\n"
    }
   }
  },
  {
   "cell_type": "code",
   "execution_count": 249,
   "outputs": [],
   "source": [
    "# Data Info\n",
    "user = \"\"\n",
    "sessionID = \"\"\n",
    "\n",
    "# XDF file name and folder path\n",
    "f_name = f\"filt_{user}_{sessionID}\"\n",
    "exp_type = \"\"\n",
    "data_sub_dir = \"\"\n",
    "file_type = \"xdf\"\n",
    "\n",
    "# Location of filtered XDF file\n",
    "xdf_file_loc = f\"sample/{exp_type}/{data_sub_dir}/{user}/{sessionID}/{f_name}.{file_type}\"\n",
    "\n",
    "# Location to save plots\n",
    "figure_loc = f'sample/{exp_type}/{data_sub_dir}/{user}/{sessionID}/test_plots/'\n",
    "\n",
    "sfreq = 250"
   ],
   "metadata": {
    "collapsed": false,
    "pycharm": {
     "name": "#%%\n"
    }
   }
  },
  {
   "cell_type": "code",
   "execution_count": 250,
   "outputs": [],
   "source": [
    "# load data\n",
    "EEG, markers, calibration_markers = load_filter_file(xdf_file_loc)"
   ],
   "metadata": {
    "collapsed": false,
    "pycharm": {
     "name": "#%%\n"
    }
   }
  },
  {
   "cell_type": "markdown",
   "source": [
    "## Markers | Events\n",
    "\n",
    "Stream starts inside calibration\n",
    "*calibration_markers*\n",
    "**102**: End of Calibration\n",
    "**103**: Start of Eyes Closed Period\n",
    "**104**: End of Eyes Closed Period\n",
    "**105**: Start of Tutorial\n",
    "**106**: End of Tutorial\n",
    "\n",
    "*markers*\n",
    "**0**: Start of Game\n",
    "**1**: End of Game\n",
    "**2**: Row Cleared\n",
    "**4**: Game Knows to Send Helper (Crossed Threshold, spawn_help event)\n",
    "**5**: Game Sends Helper (see_help event)\n",
    "**6**: Helper Clears Rows (help event)\n",
    "**7-**: Levels"
   ],
   "metadata": {
    "collapsed": false,
    "pycharm": {
     "name": "#%% md\n"
    }
   }
  },
  {
   "cell_type": "code",
   "execution_count": 251,
   "outputs": [
    {
     "name": "stdout",
     "output_type": "stream",
     "text": [
      "calibration markers\n",
      "[102 103 104 105 106]\n",
      "\n",
      "markers\n",
      "[ 0  7  8  9 10 11 12 13 14 15  2  2 16  2 17 18  2  2 19  2  2 20 21  2\n",
      "  2 22  2  2 23 24  2 25  2  2 26 27  2  2  2 28 29  4  2 30 31  1]\n"
     ]
    }
   ],
   "source": [
    "# Check Markers\n",
    "print(\"calibration markers\")\n",
    "print(calibration_markers[calibration_markers != 500])\n",
    "\n",
    "print(\"\\nmarkers\")\n",
    "print(markers[markers != 500])"
   ],
   "metadata": {
    "collapsed": false,
    "pycharm": {
     "name": "#%%\n"
    }
   }
  },
  {
   "cell_type": "markdown",
   "source": [
    "## Large Time Bin Processing + Plotting"
   ],
   "metadata": {
    "collapsed": false,
    "pycharm": {
     "name": "#%% md\n"
    }
   }
  },
  {
   "cell_type": "code",
   "execution_count": 252,
   "outputs": [],
   "source": [
    "# size of large time bin, in seconds\n",
    "large_bin_size = 10\n",
    "\n",
    "# configure markers\n",
    "large_markers, time_idx_large, result_large = large_bin_markers(markers, large_bin_size, int(sessionID))\n",
    "\n",
    "# get lines cleared in each time bin\n",
    "result_large = lines_cleared(markers, time_idx_large, result_large)\n",
    "\n",
    "# get helper related event line locations in plot\n",
    "result_large = helper_line_config(result_large, markers, int(sessionID))\n",
    "\n",
    "# epoch EEG into each time bin\n",
    "epochs_large = ERP_epoching(EEG, large_markers, result_large['targets'], t_range=large_bin_size, sfreq=sfreq, ignore=sfreq*3)"
   ],
   "metadata": {
    "collapsed": false,
    "pycharm": {
     "name": "#%%\n"
    }
   }
  },
  {
   "cell_type": "code",
   "execution_count": null,
   "outputs": [],
   "source": [
    "# plotting params\n",
    "band = 'Alpha'\n",
    "chan_picks = ['Fp1', 'Fp2']\n",
    "freq_list = [(8,13)]\n",
    "color = 'bisque'\n",
    "\n",
    "# params for scipy.signal.welch function\n",
    "# nperseg: window size\n",
    "nperseg = 250\n",
    "# noverlap: number of samples to overlap between windows\n",
    "noverlap = 0\n",
    "\n",
    "# calculate baselines\n",
    "result_large = calibration_calc(result_large, EEG, calibration_markers, freq_list, sfreq=sfreq)\n",
    "\n",
    "save = True\n",
    "\n",
    "plot_graph(epochs_large, result_large, band, chan_picks, freq_list, color, nperseg=nperseg, noverlap=noverlap, sfreq=sfreq, fname=f_name, filepath=figure_loc, save=save)"
   ],
   "metadata": {
    "collapsed": false,
    "pycharm": {
     "name": "#%%\n",
     "is_executing": true
    }
   }
  },
  {
   "cell_type": "markdown",
   "source": [
    "## Small Time Bin Processing + Plotting"
   ],
   "metadata": {
    "collapsed": false,
    "pycharm": {
     "name": "#%% md\n"
    }
   }
  },
  {
   "cell_type": "code",
   "execution_count": 255,
   "outputs": [
    {
     "name": "stdout",
     "output_type": "stream",
     "text": [
      "[91767, 92267, 92767, 93267, 93767, 94267, 94767, 95267, 95767, 96267]\n"
     ]
    }
   ],
   "source": [
    "# min_time to start looking at, in seconds (must be <= 0)\n",
    "min_time = -10\n",
    "# max_time to look at, in seconds (must be >= 0)\n",
    "max_time = 10\n",
    "# size of small time bin, in seconds\n",
    "small_bin_size = 2\n",
    "# see small_bin_markers doc string for more information\n",
    "\n",
    "# configure markers\n",
    "small_markers, time_idx_small, result_small = small_bin_markers(markers, min_time, max_time, small_bin_size, int(sessionID))\n",
    "\n",
    "# get lines cleared in each time bin\n",
    "result_small = lines_cleared(markers, time_idx_small, result_small)\n",
    "\n",
    "# get helper related event locations in plot\n",
    "result_small = helper_line_config(result_small, markers, int(sessionID), sfreq=sfreq)\n",
    "\n",
    "# epoch data into small time bins\n",
    "epochs_small = ERP_epoching(EEG, small_markers, result_small['targets'], t_range=small_bin_size, sfreq=sfreq, ignore=sfreq*3)"
   ],
   "metadata": {
    "collapsed": false,
    "pycharm": {
     "name": "#%%\n"
    }
   }
  },
  {
   "cell_type": "code",
   "execution_count": null,
   "outputs": [],
   "source": [
    "# plotting params\n",
    "band = 'Alpha'\n",
    "chan_picks = ['Fp1', 'Fp2']\n",
    "freq_list = [(8,13)]\n",
    "color = 'bisque'\n",
    "\n",
    "# params for scipy.signal.welch function\n",
    "# nperseg: window size\n",
    "nperseg = 250\n",
    "# noverlap: number of samples to overlap between windows\n",
    "noverlap = 0\n",
    "\n",
    "# calculate baselines\n",
    "result_small = calibration_calc(result_small, EEG, calibration_markers, freq_list, sfreq=sfreq)\n",
    "\n",
    "save = True\n",
    "\n",
    "plot_graph(epochs_small, result_small, band, chan_picks, freq_list, color, nperseg=nperseg, noverlap=noverlap, sfreq=sfreq, fname=f_name, filepath=figure_loc, save=save)"
   ],
   "metadata": {
    "collapsed": false,
    "pycharm": {
     "name": "#%%\n",
     "is_executing": true
    }
   }
  },
  {
   "cell_type": "code",
   "execution_count": null,
   "outputs": [],
   "source": [],
   "metadata": {
    "collapsed": false,
    "pycharm": {
     "name": "#%%\n"
    }
   }
  }
 ],
 "metadata": {
  "kernelspec": {
   "display_name": "Python 3",
   "language": "python",
   "name": "python3"
  },
  "language_info": {
   "codemirror_mode": {
    "name": "ipython",
    "version": 2
   },
   "file_extension": ".py",
   "mimetype": "text/x-python",
   "name": "python",
   "nbconvert_exporter": "python",
   "pygments_lexer": "ipython2",
   "version": "2.7.6"
  }
 },
 "nbformat": 4,
 "nbformat_minor": 0
}